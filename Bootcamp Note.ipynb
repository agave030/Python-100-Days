{
 "cells": [
  {
   "cell_type": "markdown",
   "metadata": {},
   "source": [
    "## Note(D1~D10)\n",
    "- round(variable, decimal number)\n",
    "- str.lower(): change the capital to lower\n",
    "- round(variable, decimal number)\n",
    "- map[列][行]\n",
    "- random module\n",
    "    - random.randint(first, second) both inclusive: generate an integer\n",
    "    - random.shuffle(string, list...): shuffle\n",
    "- list.append(): add thing at the end\n",
    "- str.join(list): convert a list to a string"
   ]
  },
  {
   "cell_type": "markdown",
   "metadata": {},
   "source": [
    "## Debugging step\n",
    "1. describe the problem\n",
    "2. Reproduce the Bug(when does that error happen?)\n",
    "3. play computer(run through the code line by line and evaluate each statement)\n",
    "4. fix the error\n",
    "5. print is your friend\n",
    "6. use the debugger(it could put a breakpoint)\n",
    "7. take a break\n",
    "8. ask a friend\n",
    "9. run often\n",
    "10. stackoverflow"
   ]
  },
  {
   "cell_type": "markdown",
   "metadata": {},
   "source": [
    "## Step by step\n",
    "1. breakdown the problem\n",
    "2. make a to-do list and start with the easiest\n",
    "3. turn the problem into comment\n",
    "4. next task"
   ]
  },
  {
   "cell_type": "markdown",
   "metadata": {},
   "source": [
    "### doc string: \"\"\" description \"\"\""
   ]
  },
  {
   "cell_type": "code",
   "execution_count": null,
   "metadata": {},
   "outputs": [],
   "source": []
  }
 ],
 "metadata": {
  "kernelspec": {
   "display_name": "Python 3",
   "language": "python",
   "name": "python3"
  },
  "language_info": {
   "codemirror_mode": {
    "name": "ipython",
    "version": 3
   },
   "file_extension": ".py",
   "mimetype": "text/x-python",
   "name": "python",
   "nbconvert_exporter": "python",
   "pygments_lexer": "ipython3",
   "version": "3.8.5"
  }
 },
 "nbformat": 4,
 "nbformat_minor": 4
}
